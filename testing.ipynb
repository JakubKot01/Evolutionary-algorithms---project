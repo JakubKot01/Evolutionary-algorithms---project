{
 "cells": [
  {
   "cell_type": "markdown",
   "metadata": {},
   "source": [
    "## Prezentacja działania programu"
   ]
  },
  {
   "cell_type": "code",
   "execution_count": null,
   "metadata": {},
   "outputs": [],
   "source": [
    "from importlib import reload"
   ]
  },
  {
   "cell_type": "code",
   "outputs": [],
   "source": [
    "import evolution\n",
    "reload(evolution)\n",
    "from evolution import Evolution\n",
    "\n",
    "def test_evolution():\n",
    "    mona_evolution = Evolution()\n",
    "    initial_population = mona_evolution.evolve()\n",
    "    return initial_population\n",
    "\n",
    "P = test_evolution()"
   ],
   "metadata": {
    "collapsed": false
   },
   "execution_count": null
  }
 ],
 "metadata": {
  "kernelspec": {
   "display_name": "Python 3",
   "language": "python",
   "name": "python3"
  },
  "language_info": {
   "codemirror_mode": {
    "name": "ipython",
    "version": 3
   },
   "file_extension": ".py",
   "mimetype": "text/x-python",
   "name": "python",
   "nbconvert_exporter": "python",
   "pygments_lexer": "ipython3",
   "version": "3.10.12"
  }
 },
 "nbformat": 4,
 "nbformat_minor": 2
}
