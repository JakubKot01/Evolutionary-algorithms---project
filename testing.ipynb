{
 "cells": [
  {
   "cell_type": "markdown",
   "metadata": {},
   "source": [
    "## Testowanie/Prezentacja działania wybranych napisanych funkcji "
   ]
  },
  {
   "cell_type": "code",
   "execution_count": 1,
   "metadata": {
    "ExecuteTime": {
     "end_time": "2024-01-24T13:06:45.352592400Z",
     "start_time": "2024-01-24T13:06:44.585561800Z"
    }
   },
   "outputs": [],
   "source": [
    "import matplotlib.pyplot as plt\n",
    "import numpy as np\n",
    "from importlib import reload"
   ]
  },
  {
   "cell_type": "code",
   "outputs": [],
   "source": [
    "import individual\n",
    "reload(individual)\n",
    "from individual import Individual\n",
    "\n",
    "def test_convert_to_pixels_array():    \n",
    "    indiv = Individual()\n",
    "    indiv.generate_random_individual()\n",
    "    indiv.show_image()\n",
    "\n",
    "test_convert_to_pixels_array()"
   ],
   "metadata": {
    "collapsed": false
   }
  },
  {
   "cell_type": "code",
   "outputs": [],
   "source": [
    "import utils\n",
    "reload(utils)\n",
    "from utils import Utils\n",
    "\n",
    "def test_objective_function():\n",
    "    monalisa_utils = Utils('GirlWithAPearl.jpg')\n",
    "    plt.imshow(monalisa_utils.objective_picture)\n",
    "    print(\"rozmiar obrazka to: \", monalisa_utils.length, monalisa_utils.width)\n",
    "\n",
    "    random_picture = Individual()\n",
    "    random_picture.generate_random_individual()\n",
    "\n",
    "    objective_value = monalisa_utils.objective_function(random_picture)\n",
    "    print(\"odlegosc od prawdziwej monalisy to \", objective_value)\n",
    "\n",
    "test_objective_function()"
   ],
   "metadata": {
    "collapsed": false
   }
  },
  {
   "cell_type": "code",
   "outputs": [],
   "source": [
    "import evolution\n",
    "reload(evolution)\n",
    "from evolution import Evolution\n",
    "\n",
    "def test_evolution():\n",
    "    mona_evolution = Evolution()\n",
    "    initial_population = mona_evolution.evolve()\n",
    "    return initial_population\n",
    "\n",
    "P = test_evolution()\n",
    "# print(\"poczatkowa populacja sklada sie z: \", P.population_size)\n",
    "# print(\"jego pierwszy osobnik wyglada tak:\")\n",
    "# P.population[0].show_image()\n",
    "# print(\"odleglosc do mona lisy to: \", P.population[0].objective_value)\n"
   ],
   "metadata": {
    "collapsed": false
   }
  },
  {
   "cell_type": "code",
   "outputs": [],
   "source": [
    "reload(utils)\n",
    "from utils import Utils\n",
    "\n",
    "def test_crossover():\n",
    "    monalisa_utils = Utils('GirlWithAPearl.jpg')\n",
    "    print('Pb mutacji to: ', monalisa_utils.mutation_probability)\n",
    "\n",
    "    random_parents = monalisa_utils.create_initial_population(2)\n",
    "    children = monalisa_utils.create_children_population(random_parents, np.array([0,1]))\n",
    "    \n",
    "    p1, p2 = random_parents.population[0], random_parents.population[1]\n",
    "    child1, child2 = children.population[0], children.population[1] \n",
    "    return p1, p2, child1, child2 \n",
    "\n",
    "x1, x2, c1, c2 = test_crossover()"
   ],
   "metadata": {
    "collapsed": false
   }
  },
  {
   "cell_type": "code",
   "outputs": [],
   "source": [
    "print('parent1: ')\n",
    "x1.show_image()"
   ],
   "metadata": {
    "collapsed": false
   }
  },
  {
   "cell_type": "code",
   "outputs": [],
   "source": [
    "print('parent2: ')\n",
    "x2.show_image()"
   ],
   "metadata": {
    "collapsed": false
   }
  },
  {
   "cell_type": "code",
   "outputs": [],
   "source": [
    "print('child1: ')\n",
    "c1.show_image()"
   ],
   "metadata": {
    "collapsed": false
   }
  },
  {
   "cell_type": "code",
   "outputs": [],
   "source": [
    "print('child2: ')\n",
    "c2.show_image()"
   ],
   "metadata": {
    "collapsed": false
   }
  },
  {
   "cell_type": "code",
   "outputs": [],
   "source": [
    "import evolution\n",
    "reload(evolution)\n",
    "from evolution import Evolution\n",
    "\n",
    "def test_evolution():\n",
    "    monalisa_evolution = Evolution()\n",
    "    best_picture, statistics = monalisa_evolution.evolve()\n",
    "\n",
    "    best_picture.show_image()\n",
    "\n",
    "test_evolution()"
   ],
   "metadata": {
    "collapsed": false
   }
  },
  {
   "cell_type": "code",
   "outputs": [],
   "source": [],
   "metadata": {
    "collapsed": false,
    "ExecuteTime": {
     "start_time": "2024-01-24T17:04:26.359276300Z"
    }
   }
  }
 ],
 "metadata": {
  "kernelspec": {
   "display_name": "Python 3",
   "language": "python",
   "name": "python3"
  },
  "language_info": {
   "codemirror_mode": {
    "name": "ipython",
    "version": 3
   },
   "file_extension": ".py",
   "mimetype": "text/x-python",
   "name": "python",
   "nbconvert_exporter": "python",
   "pygments_lexer": "ipython3",
   "version": "3.10.12"
  }
 },
 "nbformat": 4,
 "nbformat_minor": 2
}
